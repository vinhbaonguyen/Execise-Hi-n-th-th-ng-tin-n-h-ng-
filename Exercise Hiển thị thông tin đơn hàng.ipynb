{
 "cells": [
  {
   "cell_type": "code",
   "execution_count": 1,
   "id": "6fbd8cad",
   "metadata": {},
   "outputs": [
    {
     "name": "stdout",
     "output_type": "stream",
     "text": [
      "Nhập giá trị đơn hàng 215\n",
      "Total = 165\n"
     ]
    }
   ],
   "source": [
    "amount=int(input(\"Nhập giá trị đơn hàng \"))\n",
    "\n",
    "if amount >= 150:\n",
    "    print(f\"Total = {amount-50}\")\n",
    "elif amount >= 100:\n",
    "    print(f\"Total = {amount-25}\")\n",
    "elif amount >= 75:\n",
    "    print(f\"Total = {amount-15}\")\n",
    "else:\n",
    "    print(f\"Total = {amount}\")\n"
   ]
  }
 ],
 "metadata": {
  "kernelspec": {
   "display_name": "Python 3 (ipykernel)",
   "language": "python",
   "name": "python3"
  },
  "language_info": {
   "codemirror_mode": {
    "name": "ipython",
    "version": 3
   },
   "file_extension": ".py",
   "mimetype": "text/x-python",
   "name": "python",
   "nbconvert_exporter": "python",
   "pygments_lexer": "ipython3",
   "version": "3.11.1"
  }
 },
 "nbformat": 4,
 "nbformat_minor": 5
}
